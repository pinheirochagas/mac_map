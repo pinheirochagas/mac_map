{
 "cells": [
  {
   "cell_type": "code",
   "execution_count": 4,
   "metadata": {},
   "outputs": [
    {
     "data": {
      "application/vnd.jupyter.widget-view+json": {
       "model_id": "925a6ff6d56d42cf8f60461061714146",
       "version_major": 2,
       "version_minor": 0
      },
      "text/plain": [
       "Text(value='', description='Organization:', placeholder='Enter Organization Name')"
      ]
     },
     "metadata": {},
     "output_type": "display_data"
    },
    {
     "data": {
      "application/vnd.jupyter.widget-view+json": {
       "model_id": "5b2ad78f2ff9424494f31504c3ba9281",
       "version_major": 2,
       "version_minor": 0
      },
      "text/plain": [
       "Text(value='', description='Department:', placeholder='Enter Department')"
      ]
     },
     "metadata": {},
     "output_type": "display_data"
    },
    {
     "data": {
      "application/vnd.jupyter.widget-view+json": {
       "model_id": "e1e07ca1de864ba488b8b75ef3d13001",
       "version_major": 2,
       "version_minor": 0
      },
      "text/plain": [
       "Text(value='', description='PI Name:', placeholder='Enter PI Name')"
      ]
     },
     "metadata": {},
     "output_type": "display_data"
    },
    {
     "data": {
      "application/vnd.jupyter.widget-view+json": {
       "model_id": "58394e2339ac452385b01bbf954664b7",
       "version_major": 2,
       "version_minor": 0
      },
      "text/plain": [
       "Button(description='Search', style=ButtonStyle())"
      ]
     },
     "metadata": {},
     "output_type": "display_data"
    },
    {
     "data": {
      "application/vnd.jupyter.widget-view+json": {
       "model_id": "258bf9adccb647159ede1ba904eb6a0e",
       "version_major": 2,
       "version_minor": 0
      },
      "text/plain": [
       "Output()"
      ]
     },
     "metadata": {},
     "output_type": "display_data"
    }
   ],
   "source": [
    "# Import necessary libraries for the notebook and widgets\n",
    "import requests\n",
    "import ipywidgets as widgets\n",
    "from IPython.display import display, Markdown, clear_output\n",
    "\n",
    "# Define the function for querying the NIH Reporter API\n",
    "def query_nih_reporter_by_criteria(org_name=None, department=None, pi_name=None, additional_criteria=None):\n",
    "    url = 'https://api.reporter.nih.gov/v2/projects/search'\n",
    "    criteria = {\"criteria\": {}}\n",
    "\n",
    "    if org_name:\n",
    "        criteria[\"criteria\"][\"org_names\"] = [org_name]\n",
    "    if department:\n",
    "        criteria[\"criteria\"][\"advanced_text_search\"] = {\"search_text\": department}\n",
    "    if pi_name:\n",
    "        criteria[\"criteria\"][\"pi_names\"] = [{\"any_name\": pi_name}]\n",
    "    if additional_criteria:\n",
    "        for key, value in additional_criteria.items():\n",
    "            criteria[\"criteria\"][key] = value\n",
    "\n",
    "    params = {\n",
    "        \"offset\": 0,\n",
    "        \"limit\": 100 # Adjust as needed\n",
    "    }\n",
    "    params.update(criteria)\n",
    "\n",
    "    response = requests.post(url, json=params)\n",
    "    \n",
    "    return response.json().get('results', []) if response.status_code == 200 else []\n",
    "\n",
    "# Widget for the organization name input\n",
    "org_widget = widgets.Text(\n",
    "    value='',\n",
    "    placeholder='Enter Organization Name',\n",
    "    description='Organization:',\n",
    "    disabled=False\n",
    ")\n",
    "\n",
    "# Widget for the department input\n",
    "dept_widget = widgets.Text(\n",
    "    value='',\n",
    "    placeholder='Enter Department',\n",
    "    description='Department:',\n",
    "    disabled=False\n",
    ")\n",
    "\n",
    "# Widget for the PI name input\n",
    "pi_widget = widgets.Text(\n",
    "    value='',\n",
    "    placeholder='Enter PI Name',\n",
    "    description='PI Name:',\n",
    "    disabled=False\n",
    ")\n",
    "\n",
    "# Button to trigger the search\n",
    "search_button = widgets.Button(description=\"Search\")\n",
    "\n",
    "# Output area for displaying the search results\n",
    "output = widgets.Output()\n",
    "\n",
    "def on_search_button_clicked(b):\n",
    "    with output:\n",
    "        clear_output()\n",
    "        grants = query_nih_reporter_by_criteria(\n",
    "            org_name=org_widget.value,\n",
    "            department=dept_widget.value,\n",
    "            pi_name=pi_widget.value\n",
    "        )\n",
    "        if grants:\n",
    "            for grant in grants:\n",
    "                display(Markdown(f\"### {grant.get('project_title')}\"))\n",
    "                pis = grant.get('principal_investigators', [])\n",
    "                pi_names = ', '.join([pi.get('full_name') for pi in pis])\n",
    "                display(Markdown(f\"**Principal Investigators:** {pi_names}\"))\n",
    "                display(Markdown(f\"**Organization:** {grant.get('organization', {}).get('org_name')}\"))\n",
    "                display(Markdown(f\"**Project Start Date:** {grant.get('project_start_date')}\"))\n",
    "                display(Markdown(f\"**Project End Date:** {grant.get('project_end_date')}\"))\n",
    "                display(Markdown(\"---\"))\n",
    "        else:\n",
    "            display(Markdown(\"No results found.\"))\n",
    "\n",
    "search_button.on_click(on_search_button_clicked)\n",
    "\n",
    "# Display widgets\n",
    "display(org_widget, dept_widget, pi_widget, search_button, output)\n"
   ]
  },
  {
   "cell_type": "code",
   "execution_count": null,
   "metadata": {},
   "outputs": [],
   "source": []
  }
 ],
 "metadata": {
  "kernelspec": {
   "display_name": "base",
   "language": "python",
   "name": "python3"
  },
  "language_info": {
   "codemirror_mode": {
    "name": "ipython",
    "version": 3
   },
   "file_extension": ".py",
   "mimetype": "text/x-python",
   "name": "python",
   "nbconvert_exporter": "python",
   "pygments_lexer": "ipython3",
   "version": "3.9.12"
  }
 },
 "nbformat": 4,
 "nbformat_minor": 2
}
